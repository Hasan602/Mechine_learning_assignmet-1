{
 "cells": [
  {
   "cell_type": "markdown",
   "id": "0f90dc9a-6cd5-48f4-9fdd-1ccd39617f04",
   "metadata": {},
   "source": [
    "Q1.swaping number without using temporary variable"
   ]
  },
  {
   "cell_type": "code",
   "execution_count": 4,
   "id": "08b934d4-7957-4f71-8f77-c0c2029c141a",
   "metadata": {},
   "outputs": [
    {
     "name": "stdout",
     "output_type": "stream",
     "text": [
      "Before swaping numbers are 20, 30\n",
      "After swaping numbers are 30, 20\n"
     ]
    }
   ],
   "source": [
    "num1 = 20\n",
    "num2 = 30\n",
    "print('Before swaping numbers are {}, {}'.format(num1, num2))\n",
    "\n",
    "num1, num2 = num2, num1\n",
    "print('After swaping numbers are {}, {}'.format(num1, num2))\n"
   ]
  },
  {
   "cell_type": "markdown",
   "id": "d7ef6c44-ac24-47ae-b491-ada7176037d9",
   "metadata": {},
   "source": [
    "Q2.check even or odd number"
   ]
  },
  {
   "cell_type": "code",
   "execution_count": 4,
   "id": "7a5eef4f-5e64-4f3a-9120-eb2404abfd2c",
   "metadata": {},
   "outputs": [
    {
     "name": "stdin",
     "output_type": "stream",
     "text": [
      "Enter a integer:  15\n"
     ]
    },
    {
     "name": "stdout",
     "output_type": "stream",
     "text": [
      "The number 15 is odd\n"
     ]
    }
   ],
   "source": [
    "num = int(input('Enter a integer: '))\n",
    "\n",
    "if num % 2 == 0:\n",
    "    print('The number {} is even'.format(num))\n",
    "else:\n",
    "    print('The number {} is odd'.format(num))"
   ]
  },
  {
   "cell_type": "markdown",
   "id": "9be3aea5-5c93-4261-96e1-5ae460488620",
   "metadata": {},
   "source": [
    "Q3.String reverse "
   ]
  },
  {
   "cell_type": "code",
   "execution_count": null,
   "id": "31fb5bfc-d503-4940-b154-d748838d334e",
   "metadata": {},
   "outputs": [],
   "source": [
    "def reverse_string(str1):\n",
    "    reverse = ''\n",
    "    for i in str1:\n",
    "        reverse = i + reverse\n",
    "    return reverse\n",
    "\n",
    "str1 = 'mohammad hasan'\n",
    "result = reverse_string(str1)\n",
    "print(result)\n",
    "    "
   ]
  },
  {
   "cell_type": "markdown",
   "id": "9d1143e1-1261-4477-9e60-50c0082e3857",
   "metadata": {},
   "source": [
    "Q4. Type conversion"
   ]
  },
  {
   "cell_type": "code",
   "execution_count": 10,
   "id": "4e7e0b94-5efd-4c23-be98-db66f65d3731",
   "metadata": {},
   "outputs": [
    {
     "name": "stdout",
     "output_type": "stream",
     "text": [
      "[1, 2, 3, 4]\n",
      "<class 'list'>\n",
      "1234\n",
      "<class 'str'>\n"
     ]
    }
   ],
   "source": [
    "list1 = [1, 2, 3, 4]\n",
    "print(list1)\n",
    "print(type(list1))\n",
    "str1 = ''\n",
    "for i in list1:\n",
    "    str1 = str1 + str(i)\n",
    "print(str1)\n",
    "print(type(str1))\n",
    "    "
   ]
  },
  {
   "cell_type": "markdown",
   "id": "a18d6017-537d-45bc-9d7f-91aef152bb0a",
   "metadata": {},
   "source": [
    "Q5. Celcious To Fahrenheit coverter"
   ]
  },
  {
   "cell_type": "code",
   "execution_count": null,
   "id": "2af4c89a-3748-49c8-a239-2b11e77a054b",
   "metadata": {},
   "outputs": [],
   "source": [
    "celcious_tem = 36.5\n",
    "\n",
    "fahrenheit = celcious_tem*(9/5)+32\n",
    "print(fahrenheit)"
   ]
  },
  {
   "cell_type": "markdown",
   "id": "beb7e9a4-b7e6-41b9-8931-bb679f067846",
   "metadata": {},
   "source": [
    "Q6. Write a function Data type checker          ## isinstance(4,int) => true @@ this is true for integer"
   ]
  },
  {
   "cell_type": "code",
   "execution_count": 3,
   "id": "a6c225d0-dd33-4b04-b79e-4e55f74295b0",
   "metadata": {},
   "outputs": [
    {
     "name": "stdout",
     "output_type": "stream",
     "text": [
      "int\n",
      "float\n",
      "str\n",
      "list\n",
      "list\n"
     ]
    }
   ],
   "source": [
    "def data_type_checker(variable):\n",
    "    if isinstance(variable, int):\n",
    "        return 'int'\n",
    "    elif isinstance(variable, float):\n",
    "        return 'float'\n",
    "    elif isinstance(variable, str):\n",
    "        return 'str'\n",
    "    elif isinstance(variable, list):\n",
    "        return 'list'\n",
    "    else:\n",
    "        return 'list'\n",
    "\n",
    "\n",
    "print(data_type_checker(42))\n",
    "print(data_type_checker(3.14))\n",
    "print(data_type_checker('hello'))\n",
    "print(data_type_checker([1,2,3]))\n",
    "print(data_type_checker({1,2,2}))"
   ]
  },
  {
   "cell_type": "markdown",
   "id": "bed56f15-4425-4993-a07d-8520f039361c",
   "metadata": {},
   "source": [
    "Q7.String parindrom"
   ]
  },
  {
   "cell_type": "code",
   "execution_count": 6,
   "id": "5c32f42a-b038-4c2e-8435-a266daf94cde",
   "metadata": {},
   "outputs": [
    {
     "name": "stdout",
     "output_type": "stream",
     "text": [
      "The string is palindromic\n"
     ]
    }
   ],
   "source": [
    "def reverse_string(str1):\n",
    "    reverse = ''\n",
    "    for i in str1:\n",
    "        reverse = i + reverse\n",
    "    return reverse\n",
    "\n",
    "str1 = 'madam'\n",
    "rev = reverse_string(str1)\n",
    "if str1 == rev:\n",
    "    print('The string is palindromic')\n",
    "else:\n",
    "    print('The string is not palindromic')"
   ]
  },
  {
   "cell_type": "markdown",
   "id": "ff690910-1d89-4aa7-8ec0-23e866ef96b8",
   "metadata": {},
   "source": [
    "Q8. Sring reverse with slicing"
   ]
  },
  {
   "cell_type": "code",
   "execution_count": 12,
   "id": "f650d3b4-a273-401b-b46e-28264e629b74",
   "metadata": {},
   "outputs": [
    {
     "name": "stdout",
     "output_type": "stream",
     "text": [
      "['midan']\n"
     ]
    }
   ],
   "source": [
    "str1 = 'nadim'\n",
    "rev = [str1[::-1]]  # indexing [start:end:step]\n",
    "print(rev)"
   ]
  },
  {
   "cell_type": "markdown",
   "id": "bf613790-893c-4274-826e-f91975d61aa0",
   "metadata": {},
   "source": [
    "Q9.String concatination\n"
   ]
  },
  {
   "cell_type": "code",
   "execution_count": 13,
   "id": "2021390f-e319-41c8-b196-b0622f58dba0",
   "metadata": {},
   "outputs": [
    {
     "name": "stdout",
     "output_type": "stream",
     "text": [
      "mohammad hasan\n"
     ]
    }
   ],
   "source": [
    "str1 = 'mohammad '\n",
    "str2 = 'hasan'\n",
    "\n",
    "con_str = str1 + str2\n",
    "print(con_str)\n"
   ]
  },
  {
   "cell_type": "markdown",
   "id": "80330b4a-77ba-46eb-b954-56e25f3f7b9f",
   "metadata": {},
   "source": [
    "Q10. Typecasting challenge"
   ]
  },
  {
   "cell_type": "code",
   "execution_count": 17,
   "id": "d095b064-435a-4454-a94c-0b01f758e5b7",
   "metadata": {},
   "outputs": [
    {
     "name": "stdout",
     "output_type": "stream",
     "text": [
      "114.5 is the answer.\n"
     ]
    }
   ],
   "source": [
    "a = '100'\n",
    "b = 25\n",
    "c = '10.5'\n",
    "\n",
    "res =(int(a) + b) - float(c)\n",
    "str_res = str(res)\n",
    "final_output = str_res + ' is the answer.'\n",
    "print(final_output)"
   ]
  },
  {
   "cell_type": "markdown",
   "id": "89187356-eaf5-4e65-a107-7b63b2e0d7aa",
   "metadata": {},
   "source": [
    "Q11. positive, negative, zero"
   ]
  },
  {
   "cell_type": "code",
   "execution_count": 18,
   "id": "5242b1db-93c2-476c-abee-331528732355",
   "metadata": {},
   "outputs": [
    {
     "name": "stdin",
     "output_type": "stream",
     "text": [
      "Enter a integer :  0\n"
     ]
    },
    {
     "name": "stdout",
     "output_type": "stream",
     "text": [
      "The number is zero\n"
     ]
    }
   ],
   "source": [
    "num = int(input(\"Enter a integer : \"))\n",
    "\n",
    "if num == 0:\n",
    "    print('The number is zero')\n",
    "elif num > 0:\n",
    "    print('The number {} is positive'.format(num))\n",
    "else:\n",
    "    print('The number {} is negative'.format(num))"
   ]
  },
  {
   "cell_type": "markdown",
   "id": "c3dac1c0-91b5-4412-bd95-fa8ae807e180",
   "metadata": {},
   "source": [
    "Q12. Largest of three number "
   ]
  },
  {
   "cell_type": "code",
   "execution_count": 19,
   "id": "76c4e935-54a7-44b9-b618-af8de9462ea4",
   "metadata": {},
   "outputs": [
    {
     "name": "stdin",
     "output_type": "stream",
     "text": [
      "Enter number 1 :  10\n",
      "Enter number 2 :  20\n",
      "Enter number 3 :  7\n"
     ]
    },
    {
     "name": "stdout",
     "output_type": "stream",
     "text": [
      "Here three number is 10, 20, 7, the maximum number is 20\n"
     ]
    }
   ],
   "source": [
    "num1 = int(input('Enter number 1 : '))\n",
    "num2 = int(input('Enter number 2 : '))\n",
    "num3 = int(input('Enter number 3 : '))\n",
    "\n",
    "if num1 > num2:\n",
    "    if num1> num3:\n",
    "        print(\"Here three number is {}, {}, {}, the maximum number is {}\".format(num1, num2, num3, num1))\n",
    "\n",
    "elif num2>num1:\n",
    "    if num2>num3:\n",
    "        print(\"Here three number is {}, {}, {}, the maximum number is {}\".format(num1, num2, num3, num2))\n",
    "\n",
    "else:\n",
    "    print(\"Here three number is {}, {}, {}, the maximum number is {}\".format(num1, num2, num3, num3))"
   ]
  },
  {
   "cell_type": "markdown",
   "id": "c8566c43-738e-49d1-bc97-d28d199717ec",
   "metadata": {},
   "source": [
    "Q13. Leap year checker "
   ]
  },
  {
   "cell_type": "code",
   "execution_count": 20,
   "id": "a8ef2545-bd51-424e-a975-3e1e78441bb6",
   "metadata": {},
   "outputs": [
    {
     "name": "stdin",
     "output_type": "stream",
     "text": [
      "Give a year to check for this year is leap year or not :  2012\n"
     ]
    },
    {
     "name": "stdout",
     "output_type": "stream",
     "text": [
      "The year of 2012 is leap year\n"
     ]
    }
   ],
   "source": [
    "year = int(input('Give a year to check for this year is leap year or not : '))\n",
    "\n",
    "if year % 400 == 0:\n",
    "    print('The year of {} is leap year'.format(year))\n",
    "\n",
    "elif year % 100 == 0:\n",
    "    print('The year of {} is not leap year'.format(year))\n",
    "elif year % 4 == 0:\n",
    "    print('The year of {} is leap year'.format(year))\n",
    "else: \n",
    "    print('The year of {} is not leap year'.format(year))"
   ]
  },
  {
   "cell_type": "markdown",
   "id": "4899ae85-aa3f-414b-8d24-beb8d9ec3c78",
   "metadata": {},
   "source": [
    "Q14. Grade calculation"
   ]
  },
  {
   "cell_type": "code",
   "execution_count": 5,
   "id": "87866176-3639-4bb8-a7f1-adfc45b72eac",
   "metadata": {},
   "outputs": [
    {
     "name": "stdin",
     "output_type": "stream",
     "text": [
      "Enter your percentage :  62\n"
     ]
    },
    {
     "name": "stdout",
     "output_type": "stream",
     "text": [
      "You obtain C grade and your percentage is 62%\n"
     ]
    }
   ],
   "source": [
    "percentage = int(input('Enter your percentage : '))\n",
    "\n",
    "if percentage <= 100 and percentage >= 90:\n",
    "    print('You obtain A+ grade and your percentage is {}%'.format(percentage))\n",
    "elif percentage < 90 and percentage >= 80:\n",
    "    print('You obtain A grade and your percentage is {}%'.format(percentage))\n",
    "elif percentage < 80 and percentage >= 70:\n",
    "    print('You obtain B grade and your percentage is {}%'.format(percentage))\n",
    "elif percentage < 70 and percentage >= 60:\n",
    "    print('You obtain C grade and your percentage is {}%'.format(percentage))\n",
    "else:\n",
    "    print('You obtain F grade you are fail and your percentage is {}%'.format(percentage))\n"
   ]
  },
  {
   "cell_type": "markdown",
   "id": "cd26a996-69ea-4410-abeb-39b65f331aa6",
   "metadata": {},
   "source": [
    "Q15.Vowel or consonant checker"
   ]
  },
  {
   "cell_type": "code",
   "execution_count": 3,
   "id": "a4982fae-dead-48a2-8cf0-980fa71497e2",
   "metadata": {},
   "outputs": [
    {
     "name": "stdin",
     "output_type": "stream",
     "text": [
      "Enter the character :  A\n"
     ]
    },
    {
     "name": "stdout",
     "output_type": "stream",
     "text": [
      "The character A is a vowel\n"
     ]
    }
   ],
   "source": [
    "ch = input(\"Enter the character : \")\n",
    "\n",
    "if(ch == 'a' or ch == 'e' or ch == 'i' or ch == 'o' or ch == 'u' or ch == 'A' or ch == 'E' or ch == 'I' or ch == 'O' or ch == 'U'):\n",
    "  print('The character {} is a vowel'.format(ch))\n",
    "else:\n",
    "  print('The character {} is a consonant'.format(ch))\n"
   ]
  },
  {
   "cell_type": "markdown",
   "id": "5de97045-1a9c-4e15-9e21-2871b2199863",
   "metadata": {},
   "source": [
    "Q16. Time Classification"
   ]
  },
  {
   "cell_type": "code",
   "execution_count": null,
   "id": "49024148-f959-4a47-b075-4efba96bc897",
   "metadata": {},
   "outputs": [],
   "source": [
    "“Good morning” is generally used from 5:00 a.m. to 12:00 p.m.\n",
    "“Good afternoon” time is from 12:00 p.m. to 6:00 p.m. \n",
    "“Good evening” is often used after 6 p.m. or when the sun goes down.\n",
    "Keep in mind that “Goodnight” is not a salutation."
   ]
  },
  {
   "cell_type": "code",
   "execution_count": null,
   "id": "04d17337-1a74-44a3-b6fe-ab7255a3ffb2",
   "metadata": {},
   "outputs": [],
   "source": [
    "time = int(input('Enter time to hour format 0 to 23 hours : '))\n",
    "greetins = ['Good Morning', 'Good Afternoon', 'Good Evening', 'Good Night']\n",
    "\n",
    "\n",
    "if  5 <= time < 12:\n",
    "    print(greetins[0])\n",
    "elif  12 <= time < 17:\n",
    "    print(greetins[1])\n",
    "elif  17 <= time < 21:\n",
    "    print(greetins[2])\n",
    "else:\n",
    "    print(greetins[3])"
   ]
  },
  {
   "cell_type": "markdown",
   "id": "2f6b6034-a2d9-4dd9-a6d2-a155301a3b03",
   "metadata": {},
   "source": [
    "Q17.Triangle Type Checke"
   ]
  },
  {
   "cell_type": "markdown",
   "id": "58124d93-03da-4718-9ced-a521cff4da5f",
   "metadata": {},
   "source": [
    "<b> The sum of any two side is always greater than third side</b>\n",
    "* Equilateral triangle: All three sides of the triangle are equal. \n",
    "* Isosceles triangle: All two sides of the triangle are equal. \n",
    "* Scalene triangle: No sides of the triangle are equal."
   ]
  },
  {
   "cell_type": "code",
   "execution_count": 4,
   "id": "1c672294-e9b5-48b6-a04d-21f74912eb17",
   "metadata": {},
   "outputs": [
    {
     "name": "stdin",
     "output_type": "stream",
     "text": [
      "Enter the value a :  5\n",
      "Enter the value b :  5\n",
      "Enter the value c :  5\n"
     ]
    },
    {
     "name": "stdout",
     "output_type": "stream",
     "text": [
      "Basic condition on trigle is fullfilled.\n",
      "Equilateral triangle: All three sides of the triangle are equal.\n"
     ]
    }
   ],
   "source": [
    "a = int(input('Enter the value a : '))\n",
    "b = int(input('Enter the value b : '))\n",
    "c = int(input('Enter the value c : '))\n",
    "\n",
    "if a+b > c or b+c > a or a+c > b:\n",
    "    print('Basic condition on trigle is fullfilled.')\n",
    "    if a == b == c:\n",
    "        print('Equilateral triangle: All three sides of the triangle are equal.')\n",
    "    elif a == b or b == c or a == c:\n",
    "        print('Isosceles triangle: All two sides of the triangle are equal. ')\n",
    "    else:\n",
    "        print('Scalene triangle: No sides of the triangle are equal.')\n",
    "else:\n",
    "    print('Not possible to make a triangle')\n",
    "\n"
   ]
  },
  {
   "cell_type": "markdown",
   "id": "9a608ff7-641c-4e7b-b637-a848c906f5e1",
   "metadata": {},
   "source": [
    "Q18. Quadratic Equation solve"
   ]
  },
  {
   "attachments": {
    "08232c87-02cb-49dc-a999-a7ce4df1636d.webp": {
     "image/webp": "[encoded data removed]"
    }
   },
   "cell_type": "markdown",
   "id": "29505bed-9b61-4e65-bfc3-14322564163d",
   "metadata": {},
   "source": [
    "![the-quadratic-formula-and-the-values-of-discriminant.webp](attachment:08232c87-02cb-49dc-a999-a7ce4df1636d.webp)"
   ]
  },
  {
   "cell_type": "code",
   "execution_count": 12,
   "id": "0d74d6dc-cbb5-4451-b64f-7ecbccd2d5d6",
   "metadata": {},
   "outputs": [
    {
     "name": "stdin",
     "output_type": "stream",
     "text": [
      "Enter the value of a :  1\n",
      "Enter the value of b :  2\n",
      "Enter the value of c :  1\n"
     ]
    },
    {
     "name": "stdout",
     "output_type": "stream",
     "text": [
      "The equation is : 1x^2 + 2x + 1 = 0\n",
      "the roots are equal\n",
      "roots x = -1.0\n"
     ]
    }
   ],
   "source": [
    "import math\n",
    "a = int(input('Enter the value of a : '))\n",
    "b = int(input('Enter the value of b : '))\n",
    "c = int(input('Enter the value of c : '))\n",
    "\n",
    "d = b**2 - 4*a*c\n",
    "print('The equation is : {}x^2 + {}x + {} = 0'.format(a,b,c))\n",
    "\n",
    "if d == 0:\n",
    "    x = -b /(2*a)\n",
    "    print('the roots are equal')\n",
    "    print('roots x = {}'.format(x))\n",
    "elif d > 0:\n",
    "    x1 = (-b + ((b**2 - 4*a*c))**.5)/ (2*a)\n",
    "    x2 = (-b - ((b**2 - 4*a*c))**.5)/ (2*a)\n",
    "    print('The roots ara {} and {}'.format(x1,x2))\n",
    "else:\n",
    "    x1 = (-b + ((b**2 - 4*a*c))**.5)/ (2*a)\n",
    "    x2 = (-b - ((b**2 - 4*a*c))**.5)/ (2*a)\n",
    "    print('The complex roots ara {} and {}'.format(x1,x2))\n",
    "    "
   ]
  },
  {
   "cell_type": "markdown",
   "id": "98fefa7e-f2bf-4c72-904a-3aff0ba3a2a3",
   "metadata": {},
   "source": [
    "Q19. number range checker"
   ]
  },
  {
   "cell_type": "code",
   "execution_count": 13,
   "id": "5125bde3-f796-40e8-ba6a-ec3de67cf3cf",
   "metadata": {},
   "outputs": [
    {
     "name": "stdin",
     "output_type": "stream",
     "text": [
      "Enter an integer :  5\n"
     ]
    },
    {
     "name": "stdout",
     "output_type": "stream",
     "text": [
      "The number falls within the range 0 - 50.\n"
     ]
    }
   ],
   "source": [
    "def range_checker(number):\n",
    "    if 0 <= number <= 50:\n",
    "        print('The number falls within the range 0 - 50.')\n",
    "    elif 51 <= number <= 100:\n",
    "        print('The number falls within the range 50 - 100.')\n",
    "    elif 101 <= number <= 150:\n",
    "        print('The number falls within the range 101 - 150.')\n",
    "    elif number > 150:\n",
    "        print('The number is above 150.')\n",
    "    else:\n",
    "        print('The number is below 0.')\n",
    "\n",
    "try:\n",
    "    user_input = int(input('Enter an integer : '))\n",
    "    range_checker(user_input)\n",
    "except ValueError:\n",
    "    print('Please enter a valid integer.')\n",
    "        \n",
    "        "
   ]
  },
  {
   "cell_type": "markdown",
   "id": "fe3b1494-9f3e-4e25-8dc2-b31435142bf8",
   "metadata": {},
   "source": [
    "Q20. sum of N number"
   ]
  },
  {
   "cell_type": "code",
   "execution_count": 18,
   "id": "4b40912f-a964-4d50-84bb-53b86c04acef",
   "metadata": {},
   "outputs": [
    {
     "name": "stdin",
     "output_type": "stream",
     "text": [
      "Enter a integer to upper limit 25\n"
     ]
    },
    {
     "name": "stdout",
     "output_type": "stream",
     "text": [
      "1 to 25 range integers sum = 325\n"
     ]
    }
   ],
   "source": [
    "N = int(input('Enter a integer to upper limit'))\n",
    "total = 0\n",
    "\n",
    "for i in range(1, N+1):\n",
    "    total = total + i\n",
    "print('1 to {} range integers sum = {}'.format(N, total))"
   ]
  },
  {
   "cell_type": "markdown",
   "id": "be7b26f2-27ca-4491-9193-db031b488d57",
   "metadata": {},
   "source": [
    "Q21. calculate factorial using while loop"
   ]
  },
  {
   "cell_type": "code",
   "execution_count": 21,
   "id": "14addab4-d35f-46f5-90d2-24a5a0b3ae3b",
   "metadata": {},
   "outputs": [
    {
     "name": "stdin",
     "output_type": "stream",
     "text": [
      "Enter a positive number to find factorial. 5\n"
     ]
    },
    {
     "name": "stdout",
     "output_type": "stream",
     "text": [
      "5 factorial is = 120\n"
     ]
    }
   ],
   "source": [
    "n = int(input('Enter a positive number to find factorial.'))\n",
    "num = n\n",
    "fact = 1\n",
    "\n",
    "while n>0:\n",
    "    fact = fact * n\n",
    "    n = n - 1\n",
    "print('{} factorial is = {}'.format(num, fact))"
   ]
  },
  {
   "cell_type": "markdown",
   "id": "2d6f954c-6c34-43eb-beec-ad0f40a4736a",
   "metadata": {},
   "source": [
    "Q22. multiplication table of a number"
   ]
  },
  {
   "cell_type": "code",
   "execution_count": 25,
   "id": "b0a4f75c-9b50-44c0-aab2-b7bf397f80ea",
   "metadata": {},
   "outputs": [
    {
     "name": "stdin",
     "output_type": "stream",
     "text": [
      "Enter a integer to show multiplication table :  10\n"
     ]
    },
    {
     "name": "stdout",
     "output_type": "stream",
     "text": [
      "10 x 1 = 10\n",
      "10 x 2 = 20\n",
      "10 x 3 = 30\n",
      "10 x 4 = 40\n",
      "10 x 5 = 50\n",
      "10 x 6 = 60\n",
      "10 x 7 = 70\n",
      "10 x 8 = 80\n",
      "10 x 9 = 90\n",
      "10 x 10 = 100\n"
     ]
    }
   ],
   "source": [
    "n = int(input('Enter a integer to show multiplication table : '))\n",
    "for i in range(1, 11):\n",
    "    print('{} x {} = {}'.format(n, i, n*i))\n",
    "\n",
    "\n"
   ]
  },
  {
   "cell_type": "markdown",
   "id": "bf830d81-b5b0-4bb6-9bac-9a88bca7cd28",
   "metadata": {},
   "source": [
    "Q23. count digit of a number "
   ]
  },
  {
   "cell_type": "code",
   "execution_count": 15,
   "id": "f4bfd9d6-cd98-4d62-b1fc-8fd959996a23",
   "metadata": {},
   "outputs": [
    {
     "name": "stdin",
     "output_type": "stream",
     "text": [
      "Enter a number to count digit :  25\n"
     ]
    },
    {
     "name": "stdout",
     "output_type": "stream",
     "text": [
      "2\n"
     ]
    }
   ],
   "source": [
    "n = int(input('Enter a number to count digit : '))\n",
    "digit = 0\n",
    "\n",
    "while n != 0:\n",
    "    n = n // 10\n",
    "    digit = digit + 1\n",
    "print(digit)\n",
    "\n",
    "    \n"
   ]
  },
  {
   "cell_type": "markdown",
   "id": "0985cda9-7cad-4a29-8571-9243a0fd2711",
   "metadata": {},
   "source": [
    "Q24. Generate a fibonacci sequence"
   ]
  },
  {
   "cell_type": "code",
   "execution_count": 30,
   "id": "fc06026a-a5da-43ec-bccb-9f6591f82391",
   "metadata": {},
   "outputs": [
    {
     "name": "stdin",
     "output_type": "stream",
     "text": [
      "Enter a integer number :  5\n"
     ]
    },
    {
     "name": "stdout",
     "output_type": "stream",
     "text": [
      "0 1 1 2 3 "
     ]
    }
   ],
   "source": [
    "n = int(input('Enter a integer number : '))\n",
    "\n",
    "a = 0\n",
    "b = 1\n",
    "\n",
    "for i in range(n): \n",
    "    print(a, end = ' ')\n",
    "    a, b = b, a+b\n"
   ]
  },
  {
   "cell_type": "markdown",
   "id": "46fb05e2-0e86-43b0-81c2-e73945c4b575",
   "metadata": {},
   "source": [
    "Q25. Sum of even numbers"
   ]
  },
  {
   "cell_type": "code",
   "execution_count": 36,
   "id": "b3911614-5ebf-4fb9-a2f8-74ce935211d5",
   "metadata": {},
   "outputs": [
    {
     "name": "stdin",
     "output_type": "stream",
     "text": [
      "Enter a integer number :  10\n"
     ]
    },
    {
     "name": "stdout",
     "output_type": "stream",
     "text": [
      "2 4 6 8 10 \n",
      "Total sum of even number is 30\n"
     ]
    }
   ],
   "source": [
    "n = int(input('Enter a integer number : '))\n",
    "total = 0\n",
    "for i in range(1, n+1):\n",
    "    if i % 2 == 0:\n",
    "        print(i, end = ' ')\n",
    "        total = total + i\n",
    "\n",
    "print('\\nTotal sum of even number is {}'.format(total))"
   ]
  },
  {
   "cell_type": "markdown",
   "id": "3de8c1a9-fb24-423b-a816-820f89b58388",
   "metadata": {},
   "source": [
    "Q26. pattern, upper triangular , inverted upper triangular "
   ]
  },
  {
   "cell_type": "code",
   "execution_count": 53,
   "id": "4fd60249-e175-4fa8-a3c7-12fafcfd5556",
   "metadata": {},
   "outputs": [
    {
     "name": "stdout",
     "output_type": "stream",
     "text": [
      "\n",
      "\n",
      "@  @  @  \n",
      "\n",
      "@  @  @  \n",
      "\n",
      "@  @  @  "
     ]
    }
   ],
   "source": [
    "# draw pattern\n",
    "n = 3\n",
    "for i in range(n):\n",
    "    print('\\n')\n",
    "    for j in range(n):\n",
    "        print('@', end = '  ')"
   ]
  },
  {
   "cell_type": "code",
   "execution_count": 54,
   "id": "6a583f78-a6f6-466c-85ac-5e022536b6a0",
   "metadata": {},
   "outputs": [
    {
     "name": "stdout",
     "output_type": "stream",
     "text": [
      "\n",
      "\n",
      "*  \n",
      "\n",
      "*  *  \n",
      "\n",
      "*  *  *  "
     ]
    }
   ],
   "source": [
    "# Right Angle trigle shape pattern\n",
    "n = 3 \n",
    "for i in range(n):\n",
    "    print('\\n')\n",
    "    for j in range(n):\n",
    "        if i==j or i>j: \n",
    "            print('*', end = '  ')"
   ]
  },
  {
   "cell_type": "code",
   "execution_count": 55,
   "id": "069a045f-9c2f-4ab2-a2fb-053ce048c730",
   "metadata": {},
   "outputs": [
    {
     "name": "stdout",
     "output_type": "stream",
     "text": [
      "\n",
      "\n",
      "& & & \n",
      "\n",
      "  & & \n",
      "\n",
      "    & "
     ]
    }
   ],
   "source": [
    "# invered right Angle trigle shape pattern\n",
    "\n",
    "n = 3\n",
    "for i in range(n):\n",
    "    print('\\n')\n",
    "    for j in range(n):\n",
    "        if (i > j):\n",
    "            print(' ', end = ' ')\n",
    "        else:\n",
    "            print('&', end = ' ')"
   ]
  },
  {
   "cell_type": "markdown",
   "id": "a88f3266-b7e1-4ef9-822e-270821a7c81e",
   "metadata": {},
   "source": [
    "Q27.Check the number is prime or not using while loop"
   ]
  },
  {
   "cell_type": "code",
   "execution_count": 65,
   "id": "7a905b03-5660-4dd9-befa-c120ad74ca2c",
   "metadata": {},
   "outputs": [
    {
     "name": "stdin",
     "output_type": "stream",
     "text": [
      "Enter a integer to check prime or not :  31\n"
     ]
    },
    {
     "name": "stdout",
     "output_type": "stream",
     "text": [
      "The number 31 is a prime number\n"
     ]
    }
   ],
   "source": [
    "n = int(input('Enter a integer to check prime or not : '))\n",
    "\n",
    "flag = True\n",
    "i = 2\n",
    "while (i!= n) :\n",
    "    if n % i == 0:\n",
    "        flag = False\n",
    "        break\n",
    "    i = i + 1\n",
    "if flag == False:\n",
    "    print('The number {} is not a prime number. '.format(n))\n",
    "else:\n",
    "    print('The number {} is a prime number'.format(n))\n"
   ]
  },
  {
   "cell_type": "markdown",
   "id": "1a3c0f10-84db-4043-b3c9-6406a1057208",
   "metadata": {},
   "source": [
    "Q28. List Manipulation"
   ]
  },
  {
   "cell_type": "code",
   "execution_count": 76,
   "id": "708af482-2ed8-4f90-9482-8b727dae0c59",
   "metadata": {},
   "outputs": [
    {
     "name": "stdout",
     "output_type": "stream",
     "text": [
      "Sum = 55\n",
      "Avg = 9.17\n",
      "Max = 17\n",
      "Min = 4\n"
     ]
    }
   ],
   "source": [
    "list1 = [12, 4, 5, 17,9 ,8]\n",
    "sum1 = 0\n",
    "for i in list1:\n",
    "    sum1 = sum1 + i\n",
    "\n",
    "avg = format(sum1/ len(list1),'0.2f')\n",
    "\n",
    "max_val = list1[0]\n",
    "for i in list1:\n",
    "    if max_val < i:\n",
    "        max_val = i\n",
    "\n",
    "min_val = list1[0]\n",
    "for i in list1:\n",
    "    if min_val > i:\n",
    "        min_val = i\n",
    "\n",
    "print('Sum = {}'.format(sum1))\n",
    "print('Avg = {}'.format(avg))\n",
    "print('Max = {}'.format(max_val))\n",
    "print('Min = {}'.format(min_val))\n",
    "        \n"
   ]
  },
  {
   "cell_type": "markdown",
   "id": "24553f68-e617-479f-962a-2677736d0b43",
   "metadata": {},
   "source": [
    "Q29. Reverse String"
   ]
  },
  {
   "cell_type": "code",
   "execution_count": 79,
   "id": "7206f1d5-2bf4-4c48-bc66-755601b7c31c",
   "metadata": {},
   "outputs": [
    {
     "name": "stdout",
     "output_type": "stream",
     "text": [
      "scitamehtam\n"
     ]
    }
   ],
   "source": [
    "str1 = 'mathematics'\n",
    "rev = ''\n",
    "for i in str1:\n",
    "    rev = i + rev\n",
    "print(rev)\n"
   ]
  },
  {
   "cell_type": "markdown",
   "id": "3180d954-9476-4841-abbe-28c10f0d56b9",
   "metadata": {},
   "source": [
    "Q30. Multiplication Table"
   ]
  },
  {
   "cell_type": "code",
   "execution_count": 87,
   "id": "753462da-cfdf-40b1-83ff-220621cfd2c5",
   "metadata": {},
   "outputs": [
    {
     "name": "stdout",
     "output_type": "stream",
     "text": [
      "\n",
      "The multiplication table for 1\n",
      "1 x 1 = 1\n",
      "1 x 2 = 2\n",
      "1 x 3 = 3\n",
      "1 x 4 = 4\n",
      "1 x 5 = 5\n",
      "1 x 6 = 6\n",
      "1 x 7 = 7\n",
      "1 x 8 = 8\n",
      "1 x 9 = 9\n",
      "1 x 10 = 10\n",
      "\n",
      "The multiplication table for 2\n",
      "2 x 1 = 2\n",
      "2 x 2 = 4\n",
      "2 x 3 = 6\n",
      "2 x 4 = 8\n",
      "2 x 5 = 10\n",
      "2 x 6 = 12\n",
      "2 x 7 = 14\n",
      "2 x 8 = 16\n",
      "2 x 9 = 18\n",
      "2 x 10 = 20\n",
      "\n",
      "The multiplication table for 3\n",
      "3 x 1 = 3\n",
      "3 x 2 = 6\n",
      "3 x 3 = 9\n",
      "3 x 4 = 12\n",
      "3 x 5 = 15\n",
      "3 x 6 = 18\n",
      "3 x 7 = 21\n",
      "3 x 8 = 24\n",
      "3 x 9 = 27\n",
      "3 x 10 = 30\n",
      "\n",
      "The multiplication table for 4\n",
      "4 x 1 = 4\n",
      "4 x 2 = 8\n",
      "4 x 3 = 12\n",
      "4 x 4 = 16\n",
      "4 x 5 = 20\n",
      "4 x 6 = 24\n",
      "4 x 7 = 28\n",
      "4 x 8 = 32\n",
      "4 x 9 = 36\n",
      "4 x 10 = 40\n",
      "\n",
      "The multiplication table for 5\n",
      "5 x 1 = 5\n",
      "5 x 2 = 10\n",
      "5 x 3 = 15\n",
      "5 x 4 = 20\n",
      "5 x 5 = 25\n",
      "5 x 6 = 30\n",
      "5 x 7 = 35\n",
      "5 x 8 = 40\n",
      "5 x 9 = 45\n",
      "5 x 10 = 50\n",
      "\n",
      "The multiplication table for 6\n",
      "6 x 1 = 6\n",
      "6 x 2 = 12\n",
      "6 x 3 = 18\n",
      "6 x 4 = 24\n",
      "6 x 5 = 30\n",
      "6 x 6 = 36\n",
      "6 x 7 = 42\n",
      "6 x 8 = 48\n",
      "6 x 9 = 54\n",
      "6 x 10 = 60\n",
      "\n",
      "The multiplication table for 7\n",
      "7 x 1 = 7\n",
      "7 x 2 = 14\n",
      "7 x 3 = 21\n",
      "7 x 4 = 28\n",
      "7 x 5 = 35\n",
      "7 x 6 = 42\n",
      "7 x 7 = 49\n",
      "7 x 8 = 56\n",
      "7 x 9 = 63\n",
      "7 x 10 = 70\n",
      "\n",
      "The multiplication table for 8\n",
      "8 x 1 = 8\n",
      "8 x 2 = 16\n",
      "8 x 3 = 24\n",
      "8 x 4 = 32\n",
      "8 x 5 = 40\n",
      "8 x 6 = 48\n",
      "8 x 7 = 56\n",
      "8 x 8 = 64\n",
      "8 x 9 = 72\n",
      "8 x 10 = 80\n",
      "\n",
      "The multiplication table for 9\n",
      "9 x 1 = 9\n",
      "9 x 2 = 18\n",
      "9 x 3 = 27\n",
      "9 x 4 = 36\n",
      "9 x 5 = 45\n",
      "9 x 6 = 54\n",
      "9 x 7 = 63\n",
      "9 x 8 = 72\n",
      "9 x 9 = 81\n",
      "9 x 10 = 90\n",
      "\n",
      "The multiplication table for 10\n",
      "10 x 1 = 10\n",
      "10 x 2 = 20\n",
      "10 x 3 = 30\n",
      "10 x 4 = 40\n",
      "10 x 5 = 50\n",
      "10 x 6 = 60\n",
      "10 x 7 = 70\n",
      "10 x 8 = 80\n",
      "10 x 9 = 90\n",
      "10 x 10 = 100\n"
     ]
    }
   ],
   "source": [
    "for j in range(1, 11):\n",
    "    print('\\nThe multiplication table for {}'.format(j))\n",
    "    for i in range(1, 11):\n",
    "        print('{} x {} = {}'.format(j, i, j*i))\n",
    "    \n"
   ]
  },
  {
   "cell_type": "markdown",
   "id": "1d01b352-fd4c-4643-b480-5e47ac920d67",
   "metadata": {},
   "source": [
    "Q31. Print pattern"
   ]
  },
  {
   "cell_type": "code",
   "execution_count": 91,
   "id": "e1eab233-d1d5-4a68-9a20-69c06f6298b3",
   "metadata": {},
   "outputs": [
    {
     "name": "stdout",
     "output_type": "stream",
     "text": [
      "\n",
      "\n",
      "* \n",
      "\n",
      "* * \n",
      "\n",
      "* * * \n",
      "\n",
      "* * * * \n",
      "\n",
      "* * * * * "
     ]
    }
   ],
   "source": [
    "n = 5\n",
    "\n",
    "for i in range(n):\n",
    "    print('\\n')\n",
    "    for j in range(n):\n",
    "        if i == j or i > j:\n",
    "            print('*', end = ' ')"
   ]
  },
  {
   "cell_type": "markdown",
   "id": "70da693a-aa64-4767-b2bb-0b1e2122bd8f",
   "metadata": {},
   "source": [
    "Q32. Matrix Multiplication"
   ]
  },
  {
   "cell_type": "code",
   "execution_count": 8,
   "id": "53d5b567-cff0-4e54-86c9-106abe2a0a1a",
   "metadata": {},
   "outputs": [
    {
     "name": "stdout",
     "output_type": "stream",
     "text": [
      "[[116, 128], [139, 154]]\n"
     ]
    }
   ],
   "source": [
    "A = [[2,4,6],\n",
    "     [4,5,6]]\n",
    "B = [\n",
    "    [7,8],\n",
    "    [9,10],\n",
    "    [11,12]]\n",
    "\n",
    "row_A = len(A)\n",
    "cols_A = len(A[0])\n",
    "row_B = len(B)\n",
    "cols_B = len(B[0])\n",
    "\n",
    "if cols_A != row_B:\n",
    "    raise ValueError('Number of column in A numst be equal to number of rows in B')\n",
    "\n",
    "result = [[0 for _ in range(cols_B)] for _ in range(row_A)]\n",
    "\n",
    "\n",
    "for i in range(row_A):\n",
    "    for j in range(cols_B):\n",
    "        for k in range(cols_A):\n",
    "            result[i][j] += A[i][k] * B[k][j]\n",
    "\n",
    "print(result)\n",
    "\n"
   ]
  },
  {
   "cell_type": "markdown",
   "id": "b1df6b3c-8c6c-4950-b3c3-9d22188b5585",
   "metadata": {},
   "source": [
    "Q33. chessboard pattern"
   ]
  },
  {
   "cell_type": "code",
   "execution_count": 21,
   "id": "7df27e1a-ba43-46c0-9d97-948200b42b34",
   "metadata": {},
   "outputs": [
    {
     "name": "stdout",
     "output_type": "stream",
     "text": [
      "X O X O X \n",
      "O X O X O \n",
      "X O X O X \n",
      "O X O X O \n",
      "X O X O X \n"
     ]
    }
   ],
   "source": [
    "n = 5\n",
    "\n",
    "for i in range(n):\n",
    "    for j in range(n):\n",
    "        if (i + j) % 2 == 0:\n",
    "            print(\"X\", end = ' ')\n",
    "        else:\n",
    "            print(\"O\", end = ' ')\n",
    "    print()\n"
   ]
  },
  {
   "cell_type": "markdown",
   "id": "bdf2011e-0a4f-4ba6-b3ae-65f8ce8c939e",
   "metadata": {},
   "source": [
    "Q. pyramid like follow 1 22 3333 4444 55555"
   ]
  },
  {
   "cell_type": "markdown",
   "id": "f0ca703b-5479-44da-a9c6-5ccf2065bbaf",
   "metadata": {},
   "source": [
    "Q34. given list sum "
   ]
  },
  {
   "cell_type": "code",
   "execution_count": 1,
   "id": "6c7b5b00-d9ab-4080-9c0a-1b1d07d1b473",
   "metadata": {},
   "outputs": [
    {
     "name": "stdout",
     "output_type": "stream",
     "text": [
      "sum of the list 26\n"
     ]
    }
   ],
   "source": [
    "list1 = [2, 3,4, 5, 6, 6]\n",
    "total = 0\n",
    "\n",
    "for i in list1:\n",
    "    total = total + i\n",
    "\n",
    "print('sum of the list {}'.format(total))\n",
    "\n"
   ]
  },
  {
   "cell_type": "markdown",
   "id": "0c922455-2d49-4492-be1c-c0b4306c1f7b",
   "metadata": {},
   "source": [
    "Q34. list average"
   ]
  },
  {
   "cell_type": "code",
   "execution_count": 8,
   "id": "6771a69d-705f-4c75-be5b-b230d3f2e749",
   "metadata": {},
   "outputs": [
    {
     "name": "stdout",
     "output_type": "stream",
     "text": [
      "4.33 is avgerage of the list\n"
     ]
    }
   ],
   "source": [
    "list1 = [2, 3,4, 5, 6, 6]\n",
    "\n",
    "n = len(list1)\n",
    "total = 0\n",
    "for i in list1:\n",
    "    total = total + i\n",
    "\n",
    "avg = format(total/n, '0.2f')\n",
    "print('{} is avgerage of the list'.format(avg))\n",
    "\n"
   ]
  },
  {
   "cell_type": "markdown",
   "id": "22aa5bbc-c9cc-4225-bce1-0e33ae7a2058",
   "metadata": {},
   "source": [
    "Q36. list max and min"
   ]
  },
  {
   "cell_type": "code",
   "execution_count": 11,
   "id": "dc76b757-b6b7-4b10-8a4b-3f792940cc02",
   "metadata": {},
   "outputs": [
    {
     "name": "stdout",
     "output_type": "stream",
     "text": [
      "min of the list is 2\n",
      "max of the list is 43\n"
     ]
    }
   ],
   "source": [
    "list1 = [2,35, 6, 34, 8, 12, 43]\n",
    "\n",
    "list_min = list1[0]\n",
    "list_max = list1[0]\n",
    "for i in list1:\n",
    "    if list_min > i:\n",
    "        list_min = i\n",
    "\n",
    "for i in list1:\n",
    "    if list_max < i:\n",
    "        list_max = i\n",
    "\n",
    "print('min of the list is {}'.format(list_min))\n",
    "print('max of the list is {}'.format(list_max))\n"
   ]
  },
  {
   "cell_type": "markdown",
   "id": "7e179155-aad5-4764-858e-e6cc7afc8b22",
   "metadata": {},
   "source": [
    "Q37. list sorting"
   ]
  },
  {
   "cell_type": "code",
   "execution_count": 3,
   "id": "4a91ea02-3a1b-42ed-abde-c953eeaba058",
   "metadata": {},
   "outputs": [
    {
     "name": "stdout",
     "output_type": "stream",
     "text": [
      "[11, 12, 22, 25, 34, 64, 90]\n"
     ]
    }
   ],
   "source": [
    "list1 = [64, 34, 25, 12, 22, 11, 90]\n",
    "n = len(list1)\n",
    "\n",
    "for i in range(n):\n",
    "    for j in range(0, n-i-1):\n",
    "        if list1[j] > list1[j+1]:\n",
    "            list1[j], list1[j+1] = list1[j+1], list1[j]\n",
    "\n",
    "print(list1)\n",
    "\n"
   ]
  },
  {
   "cell_type": "markdown",
   "id": "f3ea8976-0977-48ad-b3dc-1e4642a26d67",
   "metadata": {},
   "source": [
    "Q38. List filtering even number"
   ]
  },
  {
   "cell_type": "code",
   "execution_count": 6,
   "id": "64108855-700b-444b-b14d-37136849e42c",
   "metadata": {},
   "outputs": [
    {
     "name": "stdout",
     "output_type": "stream",
     "text": [
      "[64, 34, 12, 22, 90]\n"
     ]
    }
   ],
   "source": [
    "\n",
    "list1 = [64, 34, 25, 12, 22, 11, 90]\n",
    "filter_list = []\n",
    "\n",
    "for i in list1:\n",
    "    if i % 2 == 0:\n",
    "        filter_list.append(i)\n",
    "\n",
    "print(filter_list)\n",
    "        \n"
   ]
  },
  {
   "cell_type": "markdown",
   "id": "83425346-f9e4-449e-b703-58a46c6984bb",
   "metadata": {},
   "source": [
    "Q39. List reverse"
   ]
  },
  {
   "cell_type": "code",
   "execution_count": 8,
   "id": "410da7bf-3907-41ee-85b0-61879b4f29f3",
   "metadata": {},
   "outputs": [
    {
     "data": {
      "text/plain": [
       "[90, 11, 22, 12, 25, 34, 64]"
      ]
     },
     "execution_count": 8,
     "metadata": {},
     "output_type": "execute_result"
    }
   ],
   "source": [
    "list1 = [64, 34, 25, 12, 22, 11, 90]\n",
    "rev_list = list1[::-1]\n",
    "rev_list\n"
   ]
  },
  {
   "cell_type": "markdown",
   "id": "edd430ae-ed55-4c75-8e96-cfd54233ad8d",
   "metadata": {},
   "source": [
    "Q40. list Manipulation common in both list"
   ]
  },
  {
   "cell_type": "code",
   "execution_count": 10,
   "id": "b01e024c-d229-4ef0-8649-23a4611a8336",
   "metadata": {},
   "outputs": [
    {
     "name": "stdout",
     "output_type": "stream",
     "text": [
      "[3, 7]\n"
     ]
    }
   ],
   "source": [
    "ls1 = [1,2,3,4,5,6,7]\n",
    "ls2 = [3,9,7,12,13]\n",
    "com_ls = []\n",
    "\n",
    "\n",
    "for i in ls1:\n",
    "    for j in ls2:\n",
    "        if i == j:\n",
    "            com_ls.append(i)\n",
    "print(com_ls)\n",
    "\n"
   ]
  },
  {
   "cell_type": "markdown",
   "id": "819ba8f8-cc62-4743-890c-643e5a72bae2",
   "metadata": {},
   "source": [
    "Q41. occurrence of a element count"
   ]
  },
  {
   "cell_type": "code",
   "execution_count": 11,
   "id": "4536279f-b5ce-49ce-b2cd-9988bf710bcb",
   "metadata": {},
   "outputs": [
    {
     "name": "stdout",
     "output_type": "stream",
     "text": [
      "4\n"
     ]
    }
   ],
   "source": [
    "ls = [1, 2, 3, 4, 2, 2, 5, 2]\n",
    "find = 2\n",
    "count = 0\n",
    "\n",
    "for i in ls:\n",
    "    if i == 2:\n",
    "        count = count + 1\n",
    "\n",
    "print(count)\n",
    "\n",
    "\n"
   ]
  },
  {
   "cell_type": "markdown",
   "id": "7ee9650e-c22f-4561-af50-094f1e6eb111",
   "metadata": {},
   "source": [
    "Q42. remove duplicate"
   ]
  },
  {
   "cell_type": "code",
   "execution_count": 12,
   "id": "8b096da4-5bed-497e-884f-665f5bee6595",
   "metadata": {},
   "outputs": [
    {
     "name": "stdout",
     "output_type": "stream",
     "text": [
      "{1, 2, 3, 4, 5}\n"
     ]
    }
   ],
   "source": [
    "# using set operation\n",
    "arr = [1, 2, 3, 4, 2, 2, 5, 2]\n",
    "print(set(arr))\n",
    "    "
   ]
  },
  {
   "cell_type": "markdown",
   "id": "0ddb303c-908a-4605-9543-e03f62193bee",
   "metadata": {},
   "source": [
    "Q43. list comprehension"
   ]
  },
  {
   "cell_type": "code",
   "execution_count": 15,
   "id": "e7789eea-17ff-49f3-9868-6fec30f8a0dc",
   "metadata": {},
   "outputs": [
    {
     "data": {
      "text/plain": [
       "[1, 4, 9, 16, 25]"
      ]
     },
     "execution_count": 15,
     "metadata": {},
     "output_type": "execute_result"
    }
   ],
   "source": [
    "lst = [1, 2, 3, 4, 5]\n",
    "[i**2 for i in lst]"
   ]
  },
  {
   "cell_type": "markdown",
   "id": "250f9d26-b27c-4e36-b4c5-b6be29032a6c",
   "metadata": {},
   "source": [
    "Q44.Matrix addition"
   ]
  },
  {
   "cell_type": "code",
   "execution_count": 14,
   "id": "a001fc1c-4397-48f8-8686-c9577c7f013d",
   "metadata": {},
   "outputs": [
    {
     "name": "stdout",
     "output_type": "stream",
     "text": [
      "[[7, 8, 6], [4, 5, 8], [4, 2, 5]]\n"
     ]
    }
   ],
   "source": [
    "mat_a = [[1,2,3],\n",
    "         [2,3,4],\n",
    "         [2,3,5]]\n",
    "mat_b = [[6,6,3],\n",
    "         [2,2,4],\n",
    "         [2,-1,0]]\n",
    "\n",
    "row_a = len(mat_a)\n",
    "row_b = len(mat_b)\n",
    "col_a = len(mat_a[0])\n",
    "col_b = len(mat_a[0])\n",
    "\n",
    "result = [[0 for _ in range(row_a)] for _ in range(col_a)]\n",
    "\n",
    "if row_a == row_b and col_a == col_b:\n",
    "    for i in range(row_a):\n",
    "        for  j in range(col_a):\n",
    "            result[i][j] = mat_a[i][j] + mat_b[i][j]\n",
    "\n",
    "print(result)\n"
   ]
  },
  {
   "cell_type": "markdown",
   "id": "4b4b241a-2922-44f0-8b09-7232115d9887",
   "metadata": {},
   "source": [
    "Q45. Flatten Nested list"
   ]
  },
  {
   "cell_type": "code",
   "execution_count": 20,
   "id": "72b2407d-9de7-479f-908e-34321a489e42",
   "metadata": {},
   "outputs": [
    {
     "name": "stdout",
     "output_type": "stream",
     "text": [
      "[1]\n",
      "[2, 3]\n",
      "[4, 5, 6, 7]\n",
      "[1, 2, 3, 4, 5, 6, 7]\n"
     ]
    }
   ],
   "source": [
    "my_list = [[1], [2,3], [4,5,6,7]]\n",
    "flat_list = []\n",
    "\n",
    "for sublist in my_list:\n",
    "    print(sublist)\n",
    "    for num in sublist:\n",
    "        flat_list.append(num)\n",
    "print(flat_list)\n"
   ]
  },
  {
   "cell_type": "markdown",
   "id": "a637d1c2-85bc-4bdb-a7fc-2b73cab11641",
   "metadata": {},
   "source": [
    "Q46. List Element Frequency"
   ]
  },
  {
   "cell_type": "code",
   "execution_count": 29,
   "id": "4f3317af-4c42-41de-bc67-8b77ad919227",
   "metadata": {},
   "outputs": [
    {
     "name": "stdout",
     "output_type": "stream",
     "text": [
      "Flat list [1, 2, 3, 2, 3, 4, 3, 4, 5, 6, 4, 5, 6, 7]\n",
      "Element count {1: 1, 2: 2, 3: 3, 4: 3, 5: 2, 6: 2, 7: 1}\n",
      "1 = 1\n",
      "2 = 2\n",
      "3 = 3\n",
      "4 = 3\n",
      "5 = 2\n",
      "6 = 2\n",
      "7 = 1\n"
     ]
    }
   ],
   "source": [
    "from itertools import chain\n",
    "from collections import Counter\n",
    "\n",
    "nested_list = [[1, 2, 3], [2, 3, 4], [3, 4, 5, 6], [4, 5, 6, 7]]\n",
    "\n",
    "flat_list = list(chain.from_iterable(nested_list))\n",
    "print('Flat list',flat_list)\n",
    "\n",
    "element_counts = dict(Counter(flat_list))\n",
    "print('Element count',element_counts)\n",
    "\n",
    "# print the result \n",
    "\n",
    "for element , count in element_counts.items():\n",
    "    print(f\"{element} = {count}\")\n",
    "\n",
    "\n"
   ]
  },
  {
   "cell_type": "markdown",
   "id": "f4edabfb-d0b9-45d0-90ab-2a4adaa44216",
   "metadata": {},
   "source": [
    "Q47. Tanspost Matrix"
   ]
  },
  {
   "cell_type": "code",
   "execution_count": 41,
   "id": "3bec305d-af68-46f9-b5ae-a1dbcb4a7a05",
   "metadata": {},
   "outputs": [
    {
     "data": {
      "text/plain": [
       "[[12, 4, 3], [7, 5, 8]]"
      ]
     },
     "execution_count": 41,
     "metadata": {},
     "output_type": "execute_result"
    }
   ],
   "source": [
    "mat = [[12, 7], [4, 5], [3, 8]]\n",
    "row_mat = len(mat)\n",
    "col_mat = len(mat[0])\n",
    "result = [[0 for _ in range(row_mat)] for _ in range(col_mat) ]\n",
    "\n",
    "\n",
    "\n",
    "for i in range(row_mat):\n",
    "    for j in range(col_mat):\n",
    "        result[j][i] = mat[i][j]\n",
    "\n",
    "result\n",
    "\n"
   ]
  },
  {
   "cell_type": "markdown",
   "id": "bb42bb23-ca52-4094-921c-8e679e5d42cc",
   "metadata": {},
   "source": [
    "Q48.List of list concatination"
   ]
  },
  {
   "cell_type": "code",
   "execution_count": 45,
   "id": "2263387b-5275-47c7-9ea1-ddf89a6a4116",
   "metadata": {},
   "outputs": [
    {
     "name": "stdout",
     "output_type": "stream",
     "text": [
      "[1, 2, 3, 4, 5, 6, 7, 8, 9]\n"
     ]
    }
   ],
   "source": [
    "import itertools\n",
    "nested_list = [[1, 2, 3], [4, 5, 6], [7], [8, 9]]\n",
    "flat_list = []\n",
    "for partition in nested_list:\n",
    "    for num in partition:\n",
    "        flat_list.append(num)\n",
    "print(flat_list)"
   ]
  },
  {
   "cell_type": "markdown",
   "id": "26e6ab54-efa7-4a0e-a0d0-f76463426575",
   "metadata": {},
   "source": [
    "Q49. Touple concatination"
   ]
  },
  {
   "cell_type": "code",
   "execution_count": 2,
   "id": "e9b46e70-4b14-4d29-bc70-e7c6cdfe8ef8",
   "metadata": {},
   "outputs": [
    {
     "data": {
      "text/plain": [
       "('a', 'b', 'c', 'd', 'e', 'f', 'g')"
      ]
     },
     "execution_count": 2,
     "metadata": {},
     "output_type": "execute_result"
    }
   ],
   "source": [
    "tup1 = ('a', 'b', 'c', 'd')\n",
    "tup2 = ('e', 'f', 'g')\n",
    "\n",
    "new_tup = tup1 + tup2\n",
    "new_tup"
   ]
  },
  {
   "cell_type": "markdown",
   "id": "5baf169f-575e-4be3-aacc-cdc72ef2d1e3",
   "metadata": {},
   "source": [
    "Q50.Touple Unpacking "
   ]
  },
  {
   "cell_type": "code",
   "execution_count": 5,
   "id": "c164793d-ca1a-4b33-93be-a9b5a906099b",
   "metadata": {},
   "outputs": [
    {
     "name": "stdout",
     "output_type": "stream",
     "text": [
      "1\n",
      "2\n",
      "['a', 'b', 'c']\n"
     ]
    }
   ],
   "source": [
    "tup1 = (1, 2, 3, ['a', 'b', 'c'])\n",
    "x, y, _, ls = tup1\n",
    "print(x)\n",
    "print(y)\n",
    "print(ls)"
   ]
  },
  {
   "cell_type": "markdown",
   "id": "de854375-0124-4ffc-9a52-a2a2a41913ae",
   "metadata": {},
   "source": [
    "Q51. Tuple sorting ascending order"
   ]
  },
  {
   "cell_type": "code",
   "execution_count": 6,
   "id": "546ce323-5654-4249-8af8-a8a2b28efefb",
   "metadata": {},
   "outputs": [
    {
     "name": "stdout",
     "output_type": "stream",
     "text": [
      "[0, 1, 1, 2, 3, 6]\n"
     ]
    }
   ],
   "source": [
    "tup1 = (1, 3, 2, 0, 6, 1)\n",
    "print(sorted(tup1))"
   ]
  },
  {
   "cell_type": "markdown",
   "id": "46704411-21c5-4eff-a363-33ed2c34e48a",
   "metadata": {},
   "source": [
    "Q52. Tuple frequency count"
   ]
  },
  {
   "cell_type": "code",
   "execution_count": 13,
   "id": "b023c294-f62c-4a29-8a6a-c17f54ffb8df",
   "metadata": {},
   "outputs": [
    {
     "name": "stdout",
     "output_type": "stream",
     "text": [
      "{(1, 2): 2, (3, 4): 3, (5, 6): 1}\n"
     ]
    }
   ],
   "source": [
    "tuples = [(1, 2), (3, 4), (1, 2), (5, 6), (3, 4), (3, 4)]\n",
    "freq_dict = {}\n",
    "for i in tuples:\n",
    "    if i in freq_dict:\n",
    "        freq_dict[i] = freq_dict[i] + 1\n",
    "    else:\n",
    "        freq_dict[i] = 1\n",
    "\n",
    "print(freq_dict)\n",
    "        \n",
    "\n"
   ]
  },
  {
   "cell_type": "markdown",
   "id": "774959f1-9d7f-4a49-ad5d-e97b6d72f485",
   "metadata": {},
   "source": [
    "Q53. Tuple to list"
   ]
  },
  {
   "cell_type": "code",
   "execution_count": 14,
   "id": "ceb1dacc-6322-4859-9137-9536a3d7062f",
   "metadata": {},
   "outputs": [
    {
     "data": {
      "text/plain": [
       "[1, 2, 4, 5, 6]"
      ]
     },
     "execution_count": 14,
     "metadata": {},
     "output_type": "execute_result"
    }
   ],
   "source": [
    "tup1 = (1, 2, 4, 5, 6)\n",
    "list(tup1)"
   ]
  },
  {
   "cell_type": "markdown",
   "id": "28083da2-cda2-4bd3-a316-f28c86238b26",
   "metadata": {},
   "source": [
    "Q54. Tuple reversal"
   ]
  },
  {
   "cell_type": "code",
   "execution_count": 17,
   "id": "40e2bdac-0f00-401f-a1c7-bdccdd431d24",
   "metadata": {},
   "outputs": [
    {
     "data": {
      "text/plain": [
       "(6, 5, 4, 2, 1)"
      ]
     },
     "execution_count": 17,
     "metadata": {},
     "output_type": "execute_result"
    }
   ],
   "source": [
    "tup1 = (1, 2, 4, 5, 6)\n",
    "rev = tuple(reversed(tup1))\n",
    "rev"
   ]
  },
  {
   "cell_type": "markdown",
   "id": "c0736a6c-59b4-4ce7-8bc6-baaf92d4f9e9",
   "metadata": {},
   "source": [
    "Q55. Tuple slicing"
   ]
  },
  {
   "cell_type": "code",
   "execution_count": 21,
   "id": "6ced48eb-b861-44b7-a2f0-4523eab98f79",
   "metadata": {},
   "outputs": [
    {
     "data": {
      "text/plain": [
       "(1, 2)"
      ]
     },
     "execution_count": 21,
     "metadata": {},
     "output_type": "execute_result"
    }
   ],
   "source": [
    "tup1 = (1, 2, 3)\n",
    "tup1[0], tup1[1]\n"
   ]
  },
  {
   "cell_type": "code",
   "execution_count": 22,
   "id": "e2eaf20a-bbba-458c-96c7-1eccc9c61f30",
   "metadata": {},
   "outputs": [
    {
     "data": {
      "text/plain": [
       "3"
      ]
     },
     "execution_count": 22,
     "metadata": {},
     "output_type": "execute_result"
    }
   ],
   "source": [
    "tup1[-1]"
   ]
  },
  {
   "cell_type": "code",
   "execution_count": 23,
   "id": "d93baad0-6c99-48c3-9573-57ace8543946",
   "metadata": {},
   "outputs": [
    {
     "data": {
      "text/plain": [
       "(3, 2, 1)"
      ]
     },
     "execution_count": 23,
     "metadata": {},
     "output_type": "execute_result"
    }
   ],
   "source": [
    "tup1[::-1]"
   ]
  },
  {
   "cell_type": "markdown",
   "id": "54cc8f27-47e9-4f37-9737-aa41cc1f0e88",
   "metadata": {},
   "source": [
    "Q56. Tuple operation"
   ]
  },
  {
   "cell_type": "code",
   "execution_count": 28,
   "id": "f87af793-10ce-4069-b3e3-6f6b5b3c5f30",
   "metadata": {},
   "outputs": [
    {
     "name": "stdout",
     "output_type": "stream",
     "text": [
      "Addition: (6, 8, 10)\n",
      "Subtraction: (-4, -4, -4)\n",
      "Multiplication: (5, 12, 21)\n"
     ]
    }
   ],
   "source": [
    "tuple1 = (1, 2, 3)\n",
    "tuple2 = (5, 6, 7)\n",
    "\n",
    "addition = tuple(a + b for a, b in zip(tuple1, tuple2))\n",
    "subtraction = tuple(a - b for a, b in zip(tuple1, tuple2))\n",
    "multiplication = tuple(a*b for a, b in zip(tuple1, tuple2))\n",
    "        \n",
    "\n",
    "print(\"Addition:\", addition)\n",
    "print(\"Subtraction:\", subtraction)\n",
    "print(\"Multiplication:\", multiplication)\n"
   ]
  },
  {
   "cell_type": "markdown",
   "id": "6b1c93e3-c2a9-4f51-8ba7-114d08c27d29",
   "metadata": {},
   "source": [
    "Q57. Tuple membership test"
   ]
  },
  {
   "cell_type": "code",
   "execution_count": 31,
   "id": "29967e82-79d0-4c9a-86a6-138435d98189",
   "metadata": {},
   "outputs": [
    {
     "name": "stdin",
     "output_type": "stream",
     "text": [
      "Enter integer :  5\n"
     ]
    },
    {
     "name": "stdout",
     "output_type": "stream",
     "text": [
      "is 5 in the tuple? True\n"
     ]
    }
   ],
   "source": [
    "my_tuple = (1, 2, 3, 4, 5)\n",
    "elment = int(input('Enter integer : '))\n",
    "\n",
    "is_member = elment in my_tuple\n",
    "print(f'is {elment} in the tuple? {is_member}')\n"
   ]
  },
  {
   "cell_type": "markdown",
   "id": "3c52600e-fc9f-4b7d-981e-eade35cc5016",
   "metadata": {},
   "source": [
    "Q58. Tuple packing "
   ]
  },
  {
   "cell_type": "code",
   "execution_count": 33,
   "id": "514d4bb5-02dc-47b5-97b5-0746abdc3cfa",
   "metadata": {},
   "outputs": [
    {
     "name": "stdout",
     "output_type": "stream",
     "text": [
      "(10, 20, 30) <class 'tuple'>\n"
     ]
    }
   ],
   "source": [
    "a = 10\n",
    "b = 20 \n",
    "c = 30\n",
    "\n",
    "tuple_ = (a, b, c)\n",
    "print(tuple_, type(tuple_))"
   ]
  },
  {
   "cell_type": "markdown",
   "id": "a28fcde8-0b7f-4314-8d3f-c929601fb03d",
   "metadata": {},
   "source": [
    "Q59.Nested List Element Element"
   ]
  },
  {
   "cell_type": "code",
   "execution_count": 4,
   "id": "147c2866-19df-4ca3-b740-1ad5d06e774c",
   "metadata": {},
   "outputs": [
    {
     "name": "stdout",
     "output_type": "stream",
     "text": [
      "1 2 3 \n",
      "4 5 6 \n",
      "7 8 9 \n"
     ]
    }
   ],
   "source": [
    "my_list = [[1, 2, 3], [4, 5, 6], [7, 8, 9]]\n",
    "\n",
    "for sublist in my_list:\n",
    "    for item in sublist:\n",
    "        print(item, end=' ')\n",
    "    print()\n",
    "\n"
   ]
  },
  {
   "cell_type": "markdown",
   "id": "43604a50-33ac-40fc-80bc-ebec57b1ea81",
   "metadata": {},
   "source": [
    "Q60. Nested List Flatening"
   ]
  },
  {
   "cell_type": "code",
   "execution_count": 6,
   "id": "17d84463-732e-47a9-881c-f54ae3a95374",
   "metadata": {},
   "outputs": [
    {
     "name": "stdout",
     "output_type": "stream",
     "text": [
      "[1, 2, 3, 4, 5, 6, 7, 8, 9]\n"
     ]
    }
   ],
   "source": [
    "my_list = [[1, 2, 3], [4, 5, 6], [7, 8, 9]]\n",
    "ls = []\n",
    "\n",
    "for sublist in my_list:\n",
    "    for item in sublist:\n",
    "        ls.append(item)\n",
    "\n",
    "print(ls)"
   ]
  },
  {
   "cell_type": "markdown",
   "id": "b4461104-ac74-4750-8c5a-4ca88cb038e6",
   "metadata": {},
   "source": [
    "Q61. sorted sublist based on length"
   ]
  },
  {
   "cell_type": "code",
   "execution_count": 8,
   "id": "f2db8ec7-b4a1-4eae-9166-6d61351eeeac",
   "metadata": {},
   "outputs": [
    {
     "data": {
      "text/plain": [
       "[['m'], ['d', 'e'], ['a', 'b', 'c'], ['f', 'g', 'h'], ['i', 'j', 'k', 'l']]"
      ]
     },
     "execution_count": 8,
     "metadata": {},
     "output_type": "execute_result"
    }
   ],
   "source": [
    "my_list = [['a', 'b', 'c'], ['d', 'e'], ['f', 'g', 'h'], ['i', 'j', 'k', 'l'],['m']]\n",
    "\n",
    "sorted_list = sorted(my_list, key = len)\n",
    "sorted_list\n"
   ]
  },
  {
   "cell_type": "markdown",
   "id": "06dec4fe-de88-48e0-83aa-00d1cb576852",
   "metadata": {},
   "source": [
    "Q62. List of tuple conversion"
   ]
  },
  {
   "cell_type": "code",
   "execution_count": 10,
   "id": "3e37ef4e-f828-46c5-85f2-47db3b968615",
   "metadata": {},
   "outputs": [
    {
     "name": "stdout",
     "output_type": "stream",
     "text": [
      "x_list :  [4, 4, 4, 3, 2, 1, 1]\n",
      "y_list :  [4, 5, 8, 8, 8, 8, 9]\n"
     ]
    }
   ],
   "source": [
    "coordinates_list = [(4, 4), (4, 5),  (4, 8), (3, 8), (2, 8), (1, 8), (1, 9)]\n",
    "\n",
    "x_list = [x for x, y in coordinates_list]\n",
    "y_list = [y for x, y in coordinates_list]\n",
    "\n",
    "print('x_list : ', x_list)\n",
    "print('y_list : ', y_list)\n",
    "\n"
   ]
  },
  {
   "cell_type": "markdown",
   "id": "8f693a4e-f1e7-4dd2-85bb-766e0773d91e",
   "metadata": {},
   "source": [
    "Q63. Matrix Tranpose"
   ]
  },
  {
   "cell_type": "code",
   "execution_count": 11,
   "id": "987e9ca2-f288-493a-ae5c-35681d9b88c5",
   "metadata": {},
   "outputs": [
    {
     "data": {
      "text/plain": [
       "[[12, 4, 3], [7, 5, 8]]"
      ]
     },
     "execution_count": 11,
     "metadata": {},
     "output_type": "execute_result"
    }
   ],
   "source": [
    "x = [[12, 7], [4, 5], [3, 8]]\n",
    "result = [[x[j][i] for j in range(len(x))] for i in range(len(x[0]))]\n",
    "result"
   ]
  },
  {
   "cell_type": "markdown",
   "id": "c79659af-5f8d-471c-a026-5b7b4b2600cf",
   "metadata": {},
   "source": [
    "Q64. nested list concatination"
   ]
  },
  {
   "cell_type": "code",
   "execution_count": 12,
   "id": "7200f47d-5fee-47ab-83a7-f440fde70544",
   "metadata": {},
   "outputs": [
    {
     "data": {
      "text/plain": [
       "[[1, 2], [3, 4], [5, 6], [7, 8]]"
      ]
     },
     "execution_count": 12,
     "metadata": {},
     "output_type": "execute_result"
    }
   ],
   "source": [
    "list1 = [[1, 2], [3, 4]]\n",
    "list2 = [[5, 6], [7, 8]]\n",
    "\n",
    "con_list = list1+list2\n",
    "con_list"
   ]
  },
  {
   "cell_type": "markdown",
   "id": "6af5110c-12a7-484f-806a-88af0f6bb99b",
   "metadata": {},
   "source": [
    "Q65. Count even number "
   ]
  },
  {
   "cell_type": "code",
   "execution_count": 22,
   "id": "a67ef0c1-a9de-4d67-b556-0fb5dac696c0",
   "metadata": {},
   "outputs": [
    {
     "name": "stdout",
     "output_type": "stream",
     "text": [
      "even number total =  4\n",
      "numbers [2, 4, 6, 8]\n"
     ]
    }
   ],
   "source": [
    "nst_list = [[1, 2], [3, 4], [5, 6], [7, 8]]\n",
    "even = 0\n",
    "even_list = []\n",
    "\n",
    "for element in nst_list:\n",
    "    for item in element:\n",
    "        if item % 2 == 0:\n",
    "            even = even + 1\n",
    "            even_list.append(item)\n",
    "\n",
    "print('even number total =  {}'.format(even))\n",
    "print('numbers', even_list)\n",
    "            \n"
   ]
  },
  {
   "cell_type": "markdown",
   "id": "9190756b-7bc2-49f6-bde6-edd7e4583a72",
   "metadata": {},
   "source": [
    "Q66. maximum element in nested list"
   ]
  },
  {
   "cell_type": "code",
   "execution_count": 25,
   "id": "32897c52-57ca-4712-8ad2-58ec32fc038f",
   "metadata": {},
   "outputs": [
    {
     "name": "stdout",
     "output_type": "stream",
     "text": [
      "17\n"
     ]
    }
   ],
   "source": [
    "nest_list = [[12, 7], [4, 5], [17, 8]]\n",
    "max_val = 0\n",
    "\n",
    "for element in nest_list:\n",
    "    for item in element:\n",
    "        if item > max_val:\n",
    "            max_val = item\n",
    "\n",
    "print(max_val)"
   ]
  },
  {
   "cell_type": "markdown",
   "id": "720a17ef-c3e0-4961-94c4-cd8cc65c5e12",
   "metadata": {},
   "source": [
    "Q67. Diagonal sum of Matrix"
   ]
  },
  {
   "cell_type": "code",
   "execution_count": 27,
   "id": "ab91ed3a-2c54-442b-b295-603077d85cd5",
   "metadata": {},
   "outputs": [
    {
     "name": "stdout",
     "output_type": "stream",
     "text": [
      "15\n"
     ]
    }
   ],
   "source": [
    "matrix = [[1, 2, 3], [4, 5, 6], [7, 8, 9]]\n",
    "diagonal_sum = 0\n",
    "\n",
    "\n",
    "for i in range(len(matrix)):\n",
    "    for j in range(len(matrix[0])):\n",
    "        if i == j:\n",
    "            diagonal_sum = diagonal_sum + matrix[i][j]\n",
    "\n",
    "print(diagonal_sum)"
   ]
  },
  {
   "cell_type": "markdown",
   "id": "b64a7b1c-b008-4ac5-8a54-4ae2631cea1b",
   "metadata": {},
   "source": [
    "Q68. Nested list element search"
   ]
  },
  {
   "cell_type": "code",
   "execution_count": 2,
   "id": "88d91062-bd82-4c2e-a1fa-b97885023264",
   "metadata": {},
   "outputs": [
    {
     "name": "stdout",
     "output_type": "stream",
     "text": [
      "Found 5 in the nested list\n"
     ]
    }
   ],
   "source": []
  },
  {
   "cell_type": "markdown",
   "id": "236363fa-fa93-40a7-96d3-45efbcc37e86",
   "metadata": {},
   "source": [
    "Q69.Duplicate removal in a set"
   ]
  },
  {
   "cell_type": "code",
   "execution_count": 6,
   "id": "920cf85e-09ae-4186-b44d-afc4126a9175",
   "metadata": {},
   "outputs": [
    {
     "name": "stdout",
     "output_type": "stream",
     "text": [
      "[1, 2, 3, 4, 5, 6, 7]\n"
     ]
    }
   ],
   "source": [
    "def unique_elements(input_list):\n",
    "    unique_list = []\n",
    "    for element in input_list:\n",
    "        if element not in unique_list:\n",
    "            unique_list.append(element)\n",
    "    return unique_list\n",
    "\n",
    "lst = [1,2,2,3,4,5,5,6,7]\n",
    "print(unique_elements(lst))\n",
    "\n",
    "\n",
    "\n",
    "        "
   ]
  },
  {
   "cell_type": "markdown",
   "id": "c9d58e15-93d6-4abf-bde4-8222e98c2890",
   "metadata": {},
   "source": [
    "Q70. set intersection"
   ]
  },
  {
   "cell_type": "code",
   "execution_count": 9,
   "id": "e98260bc-13a7-4605-b75c-a73ab29775d4",
   "metadata": {},
   "outputs": [
    {
     "name": "stdout",
     "output_type": "stream",
     "text": [
      "[3, 4, 5, 6]\n"
     ]
    }
   ],
   "source": [
    "A = [1,2,3,4,5,6]\n",
    "B = [3,4,5,6,8,9,10]\n",
    "intersec = []\n",
    "\n",
    "for i in range(len(A)):\n",
    "    for j in range(len(B)):\n",
    "        if B[j] == A[i]:\n",
    "            intersec.append(A[i])\n",
    "print(intersec)"
   ]
  },
  {
   "cell_type": "markdown",
   "id": "18dec5c9-2d50-45ba-929d-ffc4c3d689ba",
   "metadata": {},
   "source": [
    "Q71. set Union"
   ]
  },
  {
   "cell_type": "code",
   "execution_count": 30,
   "id": "899da935-d5d8-4179-b595-af9ad1f83ee6",
   "metadata": {},
   "outputs": [
    {
     "data": {
      "text/plain": [
       "{1, 2, 3, 4, 5, 6}"
      ]
     },
     "execution_count": 30,
     "metadata": {},
     "output_type": "execute_result"
    }
   ],
   "source": [
    "set1 = {1,2,3,4}\n",
    "set2 = {3,4,5,6}\n",
    "\n",
    "union_set = set()\n",
    "\n",
    "for elem in set1:\n",
    "    union_set.add(elem)\n",
    "\n",
    "for elem in set2:\n",
    "    union_set.add(elem)\n",
    "\n",
    "\n",
    "union_set"
   ]
  },
  {
   "cell_type": "markdown",
   "id": "ab398ccb-f3e4-4fe3-92b7-c7b7957f06f3",
   "metadata": {},
   "source": [
    "Q72. Set Difference"
   ]
  },
  {
   "cell_type": "code",
   "execution_count": 32,
   "id": "61768801-3e8a-4bc3-928f-98163520a1ed",
   "metadata": {},
   "outputs": [
    {
     "data": {
      "text/plain": [
       "{1, 2}"
      ]
     },
     "execution_count": 32,
     "metadata": {},
     "output_type": "execute_result"
    }
   ],
   "source": [
    "set1 = {1, 2, 3, 4}\n",
    "set2 = {3, 4, 5, 6}\n",
    "\n",
    "diff = set()\n",
    "\n",
    "for elm in set1:\n",
    "    if elm not in set2:\n",
    "        diff.add(elm)\n",
    "diff\n"
   ]
  },
  {
   "cell_type": "markdown",
   "id": "caa800e9-1259-4c98-af57-229b52686fe4",
   "metadata": {},
   "source": [
    "Q73. Set symmetric difference"
   ]
  },
  {
   "cell_type": "code",
   "execution_count": 2,
   "id": "e2fcffdb-d2f9-4f28-a611-38b0cd16152a",
   "metadata": {},
   "outputs": [
    {
     "data": {
      "text/plain": [
       "{1, 2, 5, 6}"
      ]
     },
     "execution_count": 2,
     "metadata": {},
     "output_type": "execute_result"
    }
   ],
   "source": [
    "set1 = {1, 2, 3, 4}\n",
    "set2 = {3, 4, 5, 6}\n",
    "\n",
    "sym_diff = set1.symmetric_difference(set2)\n",
    "sym_diff"
   ]
  },
  {
   "cell_type": "markdown",
   "id": "a5b517e0-8d70-44f9-8b25-20047f8b19d7",
   "metadata": {},
   "source": [
    "Q74. Set Operation"
   ]
  },
  {
   "cell_type": "code",
   "execution_count": 8,
   "id": "e9119c7a-19e3-42c5-ac66-632d59a48c0d",
   "metadata": {},
   "outputs": [
    {
     "name": "stdout",
     "output_type": "stream",
     "text": [
      "intersection of A and B set =  {3, 4}\n",
      "union of B and C set =  {1, 3, 4, 5, 6, 8, 9}\n",
      "Difference of C and A set =  {8, 9}\n"
     ]
    }
   ],
   "source": [
    "A = {1, 2, 3, 4}\n",
    "B = {3, 4, 5, 6}\n",
    "C = {1, 8, 9, 3}\n",
    "\n",
    "inter_AB = A.intersection(B)\n",
    "union_BC = B.union(C)\n",
    "diff_CA = C.difference(A)\n",
    "\n",
    "print('intersection of A and B set = ',inter_AB)\n",
    "print('union of B and C set = ', union_BC)\n",
    "print('Difference of C and A set = ', diff_CA)\n"
   ]
  },
  {
   "cell_type": "markdown",
   "id": "82a22347-8f0f-411b-b6c5-3283bb979aa3",
   "metadata": {},
   "source": [
    "Q75. Subset Checking "
   ]
  },
  {
   "cell_type": "code",
   "execution_count": 10,
   "id": "a510226b-c1e4-448f-8102-f4fe060750e1",
   "metadata": {},
   "outputs": [
    {
     "data": {
      "text/plain": [
       "True"
      ]
     },
     "execution_count": 10,
     "metadata": {},
     "output_type": "execute_result"
    }
   ],
   "source": [
    "a = [1, 3, 5]\n",
    "b = [1,3, 5, 8]\n",
    "\n",
    "subset = set(a).issubset(b)\n",
    "subset"
   ]
  },
  {
   "cell_type": "markdown",
   "id": "a7250cdc-0447-46e2-982a-a57a576378c3",
   "metadata": {},
   "source": [
    "Q76. superset checking "
   ]
  },
  {
   "cell_type": "code",
   "execution_count": 12,
   "id": "eb05b1bc-d1eb-42e9-8090-4d6854d3d5c7",
   "metadata": {},
   "outputs": [
    {
     "data": {
      "text/plain": [
       "True"
      ]
     },
     "execution_count": 12,
     "metadata": {},
     "output_type": "execute_result"
    }
   ],
   "source": [
    "A = {1, 2, 3, 4}\n",
    "B = {1, 2}\n",
    "\n",
    "superset = A.issuperset(B)\n",
    "superset\n"
   ]
  },
  {
   "cell_type": "markdown",
   "id": "11dcb748-ce13-4e78-b5cf-a78622284401",
   "metadata": {},
   "source": [
    "Q77. set length"
   ]
  },
  {
   "cell_type": "code",
   "execution_count": 20,
   "id": "71353316-c013-4202-aa0d-5771c26b8ef5",
   "metadata": {},
   "outputs": [
    {
     "data": {
      "text/plain": [
       "4"
      ]
     },
     "execution_count": 20,
     "metadata": {},
     "output_type": "execute_result"
    }
   ],
   "source": [
    "A = {1, 2, 3, 4}\n",
    "\n",
    "len(A)\n",
    "    \n"
   ]
  },
  {
   "cell_type": "markdown",
   "id": "0212f1d4-b86c-4083-964c-aebe1097f0b8",
   "metadata": {},
   "source": [
    "Q78. set membership operator"
   ]
  },
  {
   "cell_type": "code",
   "execution_count": 26,
   "id": "88192ced-24b4-4737-9b40-01c08362089c",
   "metadata": {},
   "outputs": [
    {
     "name": "stdout",
     "output_type": "stream",
     "text": [
      "Found\n"
     ]
    }
   ],
   "source": [
    "A = {1, 2, 3, 4}\n",
    "\n",
    "if 2 in A: \n",
    "    print('Found')\n",
    "else:\n",
    "    print('Not Found')\n",
    "        \n",
    "\n"
   ]
  },
  {
   "cell_type": "markdown",
   "id": "08252e7b-d836-48fc-b698-279f0c8aa824",
   "metadata": {},
   "source": [
    "Q92. prime number checker"
   ]
  },
  {
   "cell_type": "code",
   "execution_count": 30,
   "id": "9c0ef83e-7327-470b-84ac-14938f413c42",
   "metadata": {},
   "outputs": [
    {
     "name": "stdin",
     "output_type": "stream",
     "text": [
      "Enter a position integer :  11\n"
     ]
    },
    {
     "name": "stdout",
     "output_type": "stream",
     "text": [
      "Prime Number\n"
     ]
    }
   ],
   "source": [
    "n = int(input('Enter a position integer : '))\n",
    "flag = 0\n",
    "for i in range(2, n):\n",
    "    if n % i == 0:\n",
    "        flag = 1\n",
    "        break\n",
    "\n",
    "if flag == 0:\n",
    "    print('Prime Number')\n",
    "else:\n",
    "    print('Not Prime Number')\n"
   ]
  },
  {
   "cell_type": "markdown",
   "id": "d3a25cfc-c288-4c98-80c9-f35dae8e018a",
   "metadata": {},
   "source": [
    "Q93. Even Number print"
   ]
  },
  {
   "cell_type": "code",
   "execution_count": 35,
   "id": "e284694e-3091-462e-afc7-de19996c950c",
   "metadata": {},
   "outputs": [
    {
     "name": "stdout",
     "output_type": "stream",
     "text": [
      "2 4 6 8 10 12 14 16 18 20 "
     ]
    }
   ],
   "source": [
    "for i in range(1, 21):\n",
    "    if i % 2 != 0:\n",
    "        continue\n",
    "    print(i, end = ' ')\n",
    "        "
   ]
  },
  {
   "cell_type": "markdown",
   "id": "d45d1335-da97-4504-8d3a-c606efd38bf1",
   "metadata": {},
   "source": [
    "Q94. Password Validator"
   ]
  },
  {
   "cell_type": "markdown",
   "id": "dabd84ca-ebc0-47d9-aef8-7ab987162f1b",
   "metadata": {},
   "source": [
    "Q95. Divisible by 3 or 5"
   ]
  },
  {
   "cell_type": "code",
   "execution_count": 44,
   "id": "0ef8ea98-f4eb-4790-bf36-a6c91e753e71",
   "metadata": {},
   "outputs": [
    {
     "name": "stdout",
     "output_type": "stream",
     "text": [
      "15 30 45 "
     ]
    }
   ],
   "source": [
    "for i in range(1, 51):\n",
    "    if i % 3 != 0 or i % 5 != 0:\n",
    "        continue\n",
    "    print(i, end = ' ')"
   ]
  },
  {
   "cell_type": "markdown",
   "id": "5d108d2c-7a90-4b68-bf2c-eb4f265d039d",
   "metadata": {},
   "source": [
    "Q96. Positive number sum"
   ]
  },
  {
   "cell_type": "code",
   "execution_count": 4,
   "id": "f2c26a18-c1fd-4d94-8233-882090cb3af2",
   "metadata": {},
   "outputs": [
    {
     "name": "stdin",
     "output_type": "stream",
     "text": [
      "how many number you entered :  5\n",
      " 3\n",
      " 2\n",
      " 6\n",
      " -1\n"
     ]
    },
    {
     "name": "stdout",
     "output_type": "stream",
     "text": [
      "[3, 2, 6]\n",
      "sum of the positive number  10\n"
     ]
    }
   ],
   "source": [
    "n = int(input('how many number you entered : '))\n",
    "ls = []\n",
    "total = 0\n",
    "\n",
    "while n:\n",
    "    elem = int(input())\n",
    "    total = total + elem\n",
    "    if elem < 0:\n",
    "        break\n",
    "    ls.append(elem)\n",
    "    n = n - 1\n",
    "\n",
    "\"\"\"for i in range(n):\n",
    "    elem = int(input())\n",
    "    if elem < 0:\n",
    "        break\n",
    "    ls.append(elem)\"\"\"\n",
    "print(ls)\n",
    "print('sum of the positive number ', total)\n",
    "\n",
    "\n",
    "\n",
    "\n"
   ]
  },
  {
   "cell_type": "markdown",
   "id": "0913a2fc-4fe9-485e-9780-4dab0ed04840",
   "metadata": {},
   "source": [
    "Q97. palindromic checker"
   ]
  },
  {
   "cell_type": "code",
   "execution_count": 13,
   "id": "dced807f-7c91-45ee-8c0b-3011578dcb1b",
   "metadata": {},
   "outputs": [
    {
     "name": "stdout",
     "output_type": "stream",
     "text": [
      "palindromic\n"
     ]
    }
   ],
   "source": [
    "word = 'madam'\n",
    "rev = ''\n",
    "\n",
    "for char in word:\n",
    "    if len(word) <= 3:\n",
    "        continue\n",
    "    rev = char + rev\n",
    "\n",
    "if word == rev:\n",
    "    print('palindromic')\n",
    "\n",
    "else:\n",
    "    print('not palindromic')\n",
    "\n",
    "\n",
    "\n"
   ]
  },
  {
   "cell_type": "markdown",
   "id": "d4c7b4e4-d2bc-45b2-afa8-ba8f3cc48f75",
   "metadata": {},
   "source": [
    "Q98. Odd Number finder"
   ]
  },
  {
   "cell_type": "code",
   "execution_count": 15,
   "id": "01c7a68d-3fc0-49c0-a94b-8ba9739841f1",
   "metadata": {},
   "outputs": [
    {
     "name": "stdout",
     "output_type": "stream",
     "text": [
      "[2, 8, 5, 4, 7, 9, 1]\n",
      "first odd number of list 5\n"
     ]
    }
   ],
   "source": [
    "ls = [ 2, 8, 5, 4,7, 9, 1 ]\n",
    "print(ls)\n",
    "\n",
    "for num in ls:\n",
    "    if num % 2 != 0:\n",
    "        print('first odd number of list',num)\n",
    "        break\n",
    "\n",
    "\n"
   ]
  },
  {
   "cell_type": "code",
   "execution_count": null,
   "id": "22550762-2d2d-459a-aa80-1dfdf296bbe4",
   "metadata": {},
   "outputs": [],
   "source": []
  }
 ],
 "metadata": {
  "kernelspec": {
   "display_name": "Python 3 (ipykernel)",
   "language": "python",
   "name": "python3"
  },
  "language_info": {
   "codemirror_mode": {
    "name": "ipython",
    "version": 3
   },
   "file_extension": ".py",
   "mimetype": "text/x-python",
   "name": "python",
   "nbconvert_exporter": "python",
   "pygments_lexer": "ipython3",
   "version": "3.12.3"
  }
 },
 "nbformat": 4,
 "nbformat_minor": 5
}
